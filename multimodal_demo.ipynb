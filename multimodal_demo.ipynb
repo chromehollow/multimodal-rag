{
 "cells": [
  {
   "cell_type": "code",
   "execution_count": 1,
   "id": "a891c4ff-92bb-4368-8ac1-dca95e642a0f",
   "metadata": {},
   "outputs": [],
   "source": [
    "import json\n",
    "import os\n",
    "import networkx as nx\n",
    "import matplotlib.pyplot as plt\n",
    "import ipywidgets as widgets\n",
    "from IPython.display import display, clear_output\n",
    "from main import main"
   ]
  },
  {
   "cell_type": "code",
   "execution_count": 2,
   "id": "9cc81e8e-c129-4526-9bbf-ca8ec58d6751",
   "metadata": {},
   "outputs": [],
   "source": [
    "def plot_relationships(entities, relationships):\n",
    "    G = nx.DiGraph()\n",
    "    G.add_nodes_from(entities)\n",
    "    for subj, rel, obj in relationships:\n",
    "        G.add_edge(subj, obj, label=rel)\n",
    "\n",
    "    pos = nx.spring_layout(G)\n",
    "    plt.figure(figsize=(12, 8))\n",
    "    nx.draw(G, pos, with_labels=True, node_color='skyblue', node_size=2500, font_size=10, edge_color='gray')\n",
    "    edge_labels = nx.get_edge_attributes(G, 'label')\n",
    "    nx.draw_networkx_edge_labels(G, pos, edge_labels=edge_labels)\n",
    "    plt.title(\"Entity Relationship Graph\")\n",
    "    plt.show()"
   ]
  },
  {
   "cell_type": "code",
   "execution_count": 3,
   "id": "2f3a0b03-b022-4ef2-b45e-22754a8f854c",
   "metadata": {
    "scrolled": true
   },
   "outputs": [
    {
     "data": {
      "application/vnd.jupyter.widget-view+json": {
       "model_id": "551243f93bf24d68b468e086f7582356",
       "version_major": 2,
       "version_minor": 0
      },
      "text/plain": [
       "VBox(children=(FileUpload(value=(), accept='.txt,.png,.jpg,.jpeg,.pdf,.mp3,.mp4', description='Upload'), Text(…"
      ]
     },
     "metadata": {},
     "output_type": "display_data"
    }
   ],
   "source": [
    "import ipywidgets as widgets\n",
    "from IPython.display import display, clear_output\n",
    "import os\n",
    "import json\n",
    "from datetime import datetime\n",
    "import importlib.util\n",
    "\n",
    "# Widgets\n",
    "file_picker = widgets.FileUpload(accept=\".txt,.png,.jpg,.jpeg,.pdf,.mp3,.mp4\", multiple=False)\n",
    "query_box = widgets.Text(placeholder='Enter your search query here...')\n",
    "run_button = widgets.Button(description=\"Run Pipeline\")\n",
    "output = widgets.Output()\n",
    "\n",
    "def on_run_clicked(b):\n",
    "    with output:\n",
    "        clear_output(wait=True)\n",
    "        output.clear_output()\n",
    "\n",
    "        if file_picker.value:\n",
    "            # Handle both tuple and dict edge cases\n",
    "            uploaded_info = (\n",
    "                file_picker.value[0]\n",
    "                if isinstance(file_picker.value, tuple)\n",
    "                else list(file_picker.value.values())[0]\n",
    "            )\n",
    "\n",
    "            fname = uploaded_info['name']\n",
    "            data = uploaded_info['content']\n",
    "            path = os.path.join(\"assets\", fname)\n",
    "\n",
    "            os.makedirs(\"assets\", exist_ok=True)\n",
    "            with open(path, \"wb\") as f:\n",
    "                f.write(data)\n",
    "\n",
    "            os.system(f'python main.py \"{path}\" \"{query_box.value}\"')\n",
    "\n",
    "            try:\n",
    "                with open(\"results/hybrid_results.json\") as f:\n",
    "                    result_data = json.load(f)\n",
    "            except FileNotFoundError:\n",
    "                print(\"Error: hybrid_results.json not found. Check if main.py crashed.\")\n",
    "                return\n",
    "\n",
    "            query_log = {\n",
    "                \"timestamp\": datetime.now().isoformat(),\n",
    "                \"query\": query_box.value,\n",
    "                \"source_file\": path,\n",
    "                \"entities\": result_data.get(\"entities\", []),\n",
    "                \"relationships\": result_data.get(\"relationships\", []),\n",
    "                \"vector_results\": result_data.get(\"vector_results\", []),\n",
    "                \"graph_results\": result_data.get(\"graph_results\", []),\n",
    "            }\n",
    "\n",
    "            os.makedirs(\"results\", exist_ok=True)\n",
    "            with open(\"results/query_log.txt\", \"a\") as f:\n",
    "                f.write(json.dumps(query_log) + \"\\n\")\n",
    "\n",
    "            print(\"Evaluation log updated: results/query_log.txt\")\n",
    "\n",
    "            entities = result_data.get(\"entities\", [])\n",
    "            relationships = result_data.get(\"relationships\", [])\n",
    "            if entities:\n",
    "                try:\n",
    "                    plot_relationships(entities, relationships)\n",
    "                except Exception as e:\n",
    "                    print(\"Error while plotting relationships:\", e)\n",
    "            else:\n",
    "                print(\"No entities to plot.\")\n",
    "\n",
    "            print(\"\\n=== Final Answer ===\")\n",
    "            print(result_data.get(\"final_answer\") or result_data.get(\"answer\") or \"No answer found.\")\n",
    "\n",
    "            print(\"\\n=== Parsed Results ===\")\n",
    "            print(json.dumps(query_log, indent=2))\n",
    "        else:\n",
    "            print(\"No file uploaded.\")\n",
    "\n",
    "# Display\n",
    "run_button.on_click(on_run_clicked)\n",
    "display(widgets.VBox([file_picker, query_box, run_button, output]))\n"
   ]
  },
  {
   "cell_type": "code",
   "execution_count": null,
   "id": "3c151bf9-5d32-48b2-b411-10e48392d7c4",
   "metadata": {},
   "outputs": [],
   "source": []
  }
 ],
 "metadata": {
  "kernelspec": {
   "display_name": "Python 3 (ipykernel)",
   "language": "python",
   "name": "python3"
  },
  "language_info": {
   "codemirror_mode": {
    "name": "ipython",
    "version": 3
   },
   "file_extension": ".py",
   "mimetype": "text/x-python",
   "name": "python",
   "nbconvert_exporter": "python",
   "pygments_lexer": "ipython3",
   "version": "3.11.12"
  }
 },
 "nbformat": 4,
 "nbformat_minor": 5
}
